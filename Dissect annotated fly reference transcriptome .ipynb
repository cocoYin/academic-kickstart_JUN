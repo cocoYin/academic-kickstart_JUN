{
 "cells": [
  {
   "cell_type": "code",
   "execution_count": 2,
   "metadata": {},
   "outputs": [
    {
     "data": {
      "text/html": [
       "<div>\n",
       "<style>\n",
       "    .dataframe thead tr:only-child th {\n",
       "        text-align: right;\n",
       "    }\n",
       "\n",
       "    .dataframe thead th {\n",
       "        text-align: left;\n",
       "    }\n",
       "\n",
       "    .dataframe tbody tr th {\n",
       "        vertical-align: top;\n",
       "    }\n",
       "</style>\n",
       "<table border=\"1\" class=\"dataframe\">\n",
       "  <thead>\n",
       "    <tr style=\"text-align: right;\">\n",
       "      <th></th>\n",
       "      <th>chr</th>\n",
       "      <th>source</th>\n",
       "      <th>feature</th>\n",
       "      <th>begin</th>\n",
       "      <th>end</th>\n",
       "      <th>score</th>\n",
       "      <th>strand</th>\n",
       "      <th>frame</th>\n",
       "      <th>attribute</th>\n",
       "    </tr>\n",
       "  </thead>\n",
       "  <tbody>\n",
       "    <tr>\n",
       "      <th>0</th>\n",
       "      <td>3R</td>\n",
       "      <td>FlyBase</td>\n",
       "      <td>gene</td>\n",
       "      <td>567076</td>\n",
       "      <td>2532932</td>\n",
       "      <td>.</td>\n",
       "      <td>+</td>\n",
       "      <td>.</td>\n",
       "      <td>gene_id \"FBgn0267431\"; gene_name \"Myo81F\"; gen...</td>\n",
       "    </tr>\n",
       "    <tr>\n",
       "      <th>1</th>\n",
       "      <td>3R</td>\n",
       "      <td>FlyBase</td>\n",
       "      <td>transcript</td>\n",
       "      <td>567076</td>\n",
       "      <td>2532932</td>\n",
       "      <td>.</td>\n",
       "      <td>+</td>\n",
       "      <td>.</td>\n",
       "      <td>gene_id \"FBgn0267431\"; transcript_id \"FBtr0392...</td>\n",
       "    </tr>\n",
       "    <tr>\n",
       "      <th>2</th>\n",
       "      <td>3R</td>\n",
       "      <td>FlyBase</td>\n",
       "      <td>exon</td>\n",
       "      <td>567076</td>\n",
       "      <td>567268</td>\n",
       "      <td>.</td>\n",
       "      <td>+</td>\n",
       "      <td>.</td>\n",
       "      <td>gene_id \"FBgn0267431\"; transcript_id \"FBtr0392...</td>\n",
       "    </tr>\n",
       "    <tr>\n",
       "      <th>3</th>\n",
       "      <td>3R</td>\n",
       "      <td>FlyBase</td>\n",
       "      <td>exon</td>\n",
       "      <td>835376</td>\n",
       "      <td>835491</td>\n",
       "      <td>.</td>\n",
       "      <td>+</td>\n",
       "      <td>.</td>\n",
       "      <td>gene_id \"FBgn0267431\"; transcript_id \"FBtr0392...</td>\n",
       "    </tr>\n",
       "    <tr>\n",
       "      <th>4</th>\n",
       "      <td>3R</td>\n",
       "      <td>FlyBase</td>\n",
       "      <td>CDS</td>\n",
       "      <td>835378</td>\n",
       "      <td>835491</td>\n",
       "      <td>.</td>\n",
       "      <td>+</td>\n",
       "      <td>0</td>\n",
       "      <td>gene_id \"FBgn0267431\"; transcript_id \"FBtr0392...</td>\n",
       "    </tr>\n",
       "  </tbody>\n",
       "</table>\n",
       "</div>"
      ],
      "text/plain": [
       "  chr   source     feature   begin      end score strand frame  \\\n",
       "0  3R  FlyBase        gene  567076  2532932     .      +     .   \n",
       "1  3R  FlyBase  transcript  567076  2532932     .      +     .   \n",
       "2  3R  FlyBase        exon  567076   567268     .      +     .   \n",
       "3  3R  FlyBase        exon  835376   835491     .      +     .   \n",
       "4  3R  FlyBase         CDS  835378   835491     .      +     0   \n",
       "\n",
       "                                           attribute  \n",
       "0  gene_id \"FBgn0267431\"; gene_name \"Myo81F\"; gen...  \n",
       "1  gene_id \"FBgn0267431\"; transcript_id \"FBtr0392...  \n",
       "2  gene_id \"FBgn0267431\"; transcript_id \"FBtr0392...  \n",
       "3  gene_id \"FBgn0267431\"; transcript_id \"FBtr0392...  \n",
       "4  gene_id \"FBgn0267431\"; transcript_id \"FBtr0392...  "
      ]
     },
     "execution_count": 2,
     "metadata": {},
     "output_type": "execute_result"
    }
   ],
   "source": [
    "#read whole GTF file as a table by using \"pd.read_csv\" or \"pd.read_table\" function\n",
    "import pandas as pd\n",
    "GTF=pd.read_csv('Fly_BDGP6.91.gtf',sep='\\t',header=None)\n",
    "GTF.columns=[\"chr\",\"source\",\"feature\",\"begin\",\"end\",\"score\",\"strand\",\"frame\",\"attribute\"]\n",
    "GTF.head()"
   ]
  },
  {
   "cell_type": "code",
   "execution_count": 3,
   "metadata": {},
   "outputs": [
    {
     "data": {
      "text/plain": [
       "['gene',\n",
       " 'transcript',\n",
       " 'exon',\n",
       " 'CDS',\n",
       " 'start_codon',\n",
       " 'five_prime_utr',\n",
       " 'three_prime_utr',\n",
       " 'Selenocysteine']"
      ]
     },
     "execution_count": 3,
     "metadata": {},
     "output_type": "execute_result"
    }
   ],
   "source": [
    "#check how many features\n",
    "GTF['feature'].unique().tolist()"
   ]
  },
  {
   "cell_type": "code",
   "execution_count": 4,
   "metadata": {},
   "outputs": [
    {
     "data": {
      "text/plain": [
       "['3R',\n",
       " '3L',\n",
       " '2R',\n",
       " 'X',\n",
       " '2L',\n",
       " 'Y',\n",
       " '4',\n",
       " 'mitochondrion_genome',\n",
       " 'Unmapped_Scaffold_8',\n",
       " 'rDNA',\n",
       " '211000022280328',\n",
       " '211000022278279',\n",
       " '211000022279681',\n",
       " '211000022280494',\n",
       " '211000022280703',\n",
       " '211000022280481',\n",
       " '211000022279188',\n",
       " '211000022278436',\n",
       " '211000022278449',\n",
       " '211000022280347',\n",
       " '211000022280341',\n",
       " '211000022279392',\n",
       " '211000022278760',\n",
       " '211000022279165',\n",
       " '211000022279264']"
      ]
     },
     "execution_count": 4,
     "metadata": {},
     "output_type": "execute_result"
    }
   ],
   "source": [
    "#check how many chromosomes\n",
    "GTF['chr'].unique().tolist()"
   ]
  },
  {
   "cell_type": "code",
   "execution_count": 5,
   "metadata": {
    "collapsed": true
   },
   "outputs": [],
   "source": [
    "# read GTF file, extract information of gene_id, gene_name, gene_type, chr,  begin, end, gene_length\n",
    "\n",
    "import csv\n",
    "with open(\"Fly_BDGP6.91.gtf\") as fp:     \n",
    "    for line in fp:\n",
    "        cols = line.strip().split(\"\\t\") # strip will get rid of \\n at the end of each line)\n",
    "        # only process lines with feature as \"gene\" in the third column \n",
    "        if cols[2]==\"gene\":\n",
    "            # parse attribution column\n",
    "            s = next(csv.reader([cols[8]], delimiter='\"')) \n",
    "            # calculate gene length\n",
    "            gene_length = abs(int(cols[4])-int(cols[3]))+1\n",
    "            with open(\"result_BGDR_GTF.csv\",'a') as f:  # 'a' will append each line. Don't rerun. \n",
    "                w = csv.writer(f)\n",
    "                #write gene_id, gene_name, gene_type, chr,  begin, end, gene_length\n",
    "                w.writerow([s[1], s[3], s[7],cols[0], cols[3], cols[4],gene_length])\n",
    "fp.close       \n",
    "f.close()"
   ]
  },
  {
   "cell_type": "code",
   "execution_count": 6,
   "metadata": {},
   "outputs": [
    {
     "data": {
      "text/html": [
       "<div>\n",
       "<style>\n",
       "    .dataframe thead tr:only-child th {\n",
       "        text-align: right;\n",
       "    }\n",
       "\n",
       "    .dataframe thead th {\n",
       "        text-align: left;\n",
       "    }\n",
       "\n",
       "    .dataframe tbody tr th {\n",
       "        vertical-align: top;\n",
       "    }\n",
       "</style>\n",
       "<table border=\"1\" class=\"dataframe\">\n",
       "  <thead>\n",
       "    <tr style=\"text-align: right;\">\n",
       "      <th></th>\n",
       "      <th>0</th>\n",
       "      <th>1</th>\n",
       "      <th>2</th>\n",
       "      <th>3</th>\n",
       "      <th>4</th>\n",
       "      <th>5</th>\n",
       "      <th>6</th>\n",
       "    </tr>\n",
       "  </thead>\n",
       "  <tbody>\n",
       "    <tr>\n",
       "      <th>0</th>\n",
       "      <td>FBgn0267431</td>\n",
       "      <td>Myo81F</td>\n",
       "      <td>protein_coding</td>\n",
       "      <td>3R</td>\n",
       "      <td>567076</td>\n",
       "      <td>2532932</td>\n",
       "      <td>1965857</td>\n",
       "    </tr>\n",
       "    <tr>\n",
       "      <th>1</th>\n",
       "      <td>FBgn0085804</td>\n",
       "      <td>CR41571</td>\n",
       "      <td>pseudogene</td>\n",
       "      <td>3R</td>\n",
       "      <td>722370</td>\n",
       "      <td>722621</td>\n",
       "      <td>252</td>\n",
       "    </tr>\n",
       "    <tr>\n",
       "      <th>2</th>\n",
       "      <td>FBgn0039987</td>\n",
       "      <td>CR12798</td>\n",
       "      <td>pseudogene</td>\n",
       "      <td>3R</td>\n",
       "      <td>1031171</td>\n",
       "      <td>1031354</td>\n",
       "      <td>184</td>\n",
       "    </tr>\n",
       "    <tr>\n",
       "      <th>3</th>\n",
       "      <td>FBgn0267798</td>\n",
       "      <td>CR46123</td>\n",
       "      <td>ncRNA</td>\n",
       "      <td>3R</td>\n",
       "      <td>1366234</td>\n",
       "      <td>1366601</td>\n",
       "      <td>368</td>\n",
       "    </tr>\n",
       "    <tr>\n",
       "      <th>4</th>\n",
       "      <td>FBgn0267797</td>\n",
       "      <td>CR46122</td>\n",
       "      <td>ncRNA</td>\n",
       "      <td>3R</td>\n",
       "      <td>1865108</td>\n",
       "      <td>1866008</td>\n",
       "      <td>901</td>\n",
       "    </tr>\n",
       "  </tbody>\n",
       "</table>\n",
       "</div>"
      ],
      "text/plain": [
       "             0        1               2   3        4        5        6\n",
       "0  FBgn0267431   Myo81F  protein_coding  3R   567076  2532932  1965857\n",
       "1  FBgn0085804  CR41571      pseudogene  3R   722370   722621      252\n",
       "2  FBgn0039987  CR12798      pseudogene  3R  1031171  1031354      184\n",
       "3  FBgn0267798  CR46123           ncRNA  3R  1366234  1366601      368\n",
       "4  FBgn0267797  CR46122           ncRNA  3R  1865108  1866008      901"
      ]
     },
     "execution_count": 6,
     "metadata": {},
     "output_type": "execute_result"
    }
   ],
   "source": [
    "#read output csv file as a table by using \"pd.read_csv\" or \"pd.read_table\" function\n",
    "GTF=pd.read_csv('result_BGDR_GTF.csv',sep=',',header=None)\n",
    "GTF.head()"
   ]
  },
  {
   "cell_type": "code",
   "execution_count": 7,
   "metadata": {},
   "outputs": [
    {
     "data": {
      "text/html": [
       "<div>\n",
       "<style>\n",
       "    .dataframe thead tr:only-child th {\n",
       "        text-align: right;\n",
       "    }\n",
       "\n",
       "    .dataframe thead th {\n",
       "        text-align: left;\n",
       "    }\n",
       "\n",
       "    .dataframe tbody tr th {\n",
       "        vertical-align: top;\n",
       "    }\n",
       "</style>\n",
       "<table border=\"1\" class=\"dataframe\">\n",
       "  <thead>\n",
       "    <tr style=\"text-align: right;\">\n",
       "      <th></th>\n",
       "      <th>gene_id</th>\n",
       "      <th>gene_name</th>\n",
       "      <th>gene_type</th>\n",
       "      <th>chromosome</th>\n",
       "      <th>begin</th>\n",
       "      <th>end</th>\n",
       "      <th>gene_length</th>\n",
       "    </tr>\n",
       "  </thead>\n",
       "  <tbody>\n",
       "    <tr>\n",
       "      <th>0</th>\n",
       "      <td>FBgn0267431</td>\n",
       "      <td>Myo81F</td>\n",
       "      <td>protein_coding</td>\n",
       "      <td>3R</td>\n",
       "      <td>567076</td>\n",
       "      <td>2532932</td>\n",
       "      <td>1965857</td>\n",
       "    </tr>\n",
       "    <tr>\n",
       "      <th>1</th>\n",
       "      <td>FBgn0085804</td>\n",
       "      <td>CR41571</td>\n",
       "      <td>pseudogene</td>\n",
       "      <td>3R</td>\n",
       "      <td>722370</td>\n",
       "      <td>722621</td>\n",
       "      <td>252</td>\n",
       "    </tr>\n",
       "    <tr>\n",
       "      <th>2</th>\n",
       "      <td>FBgn0039987</td>\n",
       "      <td>CR12798</td>\n",
       "      <td>pseudogene</td>\n",
       "      <td>3R</td>\n",
       "      <td>1031171</td>\n",
       "      <td>1031354</td>\n",
       "      <td>184</td>\n",
       "    </tr>\n",
       "    <tr>\n",
       "      <th>3</th>\n",
       "      <td>FBgn0267798</td>\n",
       "      <td>CR46123</td>\n",
       "      <td>ncRNA</td>\n",
       "      <td>3R</td>\n",
       "      <td>1366234</td>\n",
       "      <td>1366601</td>\n",
       "      <td>368</td>\n",
       "    </tr>\n",
       "    <tr>\n",
       "      <th>4</th>\n",
       "      <td>FBgn0267797</td>\n",
       "      <td>CR46122</td>\n",
       "      <td>ncRNA</td>\n",
       "      <td>3R</td>\n",
       "      <td>1865108</td>\n",
       "      <td>1866008</td>\n",
       "      <td>901</td>\n",
       "    </tr>\n",
       "  </tbody>\n",
       "</table>\n",
       "</div>"
      ],
      "text/plain": [
       "       gene_id gene_name       gene_type chromosome    begin      end  \\\n",
       "0  FBgn0267431    Myo81F  protein_coding         3R   567076  2532932   \n",
       "1  FBgn0085804   CR41571      pseudogene         3R   722370   722621   \n",
       "2  FBgn0039987   CR12798      pseudogene         3R  1031171  1031354   \n",
       "3  FBgn0267798   CR46123           ncRNA         3R  1366234  1366601   \n",
       "4  FBgn0267797   CR46122           ncRNA         3R  1865108  1866008   \n",
       "\n",
       "   gene_length  \n",
       "0      1965857  \n",
       "1          252  \n",
       "2          184  \n",
       "3          368  \n",
       "4          901  "
      ]
     },
     "execution_count": 7,
     "metadata": {},
     "output_type": "execute_result"
    }
   ],
   "source": [
    "# reset column names\n",
    "GTF.columns=[\"gene_id\",\"gene_name\",\"gene_type\",\"chromosome\",\"begin\",\"end\",\"gene_length\"]\n",
    "GTF.head()"
   ]
  },
  {
   "cell_type": "code",
   "execution_count": 8,
   "metadata": {},
   "outputs": [
    {
     "data": {
      "text/plain": [
       "(17737, 7)"
      ]
     },
     "execution_count": 8,
     "metadata": {},
     "output_type": "execute_result"
    }
   ],
   "source": [
    "GTF.shape"
   ]
  },
  {
   "cell_type": "code",
   "execution_count": 9,
   "metadata": {},
   "outputs": [
    {
     "data": {
      "text/plain": [
       "chromosome\n",
       "211000022278279            1\n",
       "211000022278436            1\n",
       "211000022278449            1\n",
       "211000022278760            1\n",
       "211000022279165            1\n",
       "211000022279188            1\n",
       "211000022279264            1\n",
       "211000022279392            1\n",
       "211000022279681            1\n",
       "211000022280328            1\n",
       "211000022280341            1\n",
       "211000022280347            1\n",
       "211000022280481            1\n",
       "211000022280494            2\n",
       "211000022280703            1\n",
       "2L                      3496\n",
       "2R                      3621\n",
       "3L                      3457\n",
       "3R                      4191\n",
       "4                        111\n",
       "Unmapped_Scaffold_8        2\n",
       "X                       2671\n",
       "Y                        113\n",
       "mitochondrion_genome      38\n",
       "rDNA                      21\n",
       "dtype: int64"
      ]
     },
     "execution_count": 9,
     "metadata": {},
     "output_type": "execute_result"
    }
   ],
   "source": [
    "# count how many genes in each chromosome\n",
    "GTF.groupby('chromosome').size()"
   ]
  },
  {
   "cell_type": "code",
   "execution_count": 10,
   "metadata": {},
   "outputs": [
    {
     "data": {
      "text/plain": [
       "chromosome\n",
       "2L             3496\n",
       "2R             3621\n",
       "3L             3457\n",
       "3R             4191\n",
       "4               111\n",
       "Mito             38\n",
       "X              2671\n",
       "Y               113\n",
       "rDNA             21\n",
       "unlocalized      18\n",
       "dtype: int64"
      ]
     },
     "execution_count": 10,
     "metadata": {},
     "output_type": "execute_result"
    }
   ],
   "source": [
    "# change those unknown chromosomes to \"unlocalized\"\n",
    "GTF.loc[~GTF['chromosome'].isin (['2L','2R','3L','3R','4','X','Y','rDNA','mitochondrion_genome']),\"chromosome\"]=\"unlocalized\"\n",
    "GTF.loc[GTF['chromosome']==\"mitochondrion_genome\",\"chromosome\"]=\"Mito\"\n",
    "GTF.groupby('chromosome').size()\n"
   ]
  },
  {
   "cell_type": "code",
   "execution_count": 11,
   "metadata": {},
   "outputs": [
    {
     "data": {
      "text/plain": [
       "gene_type\n",
       "mRNA          13931\n",
       "ncRNA          2491\n",
       "pre_miRNA       259\n",
       "pseudogene      309\n",
       "rRNA            115\n",
       "snRNA            32\n",
       "snoRNA          288\n",
       "tRNA            312\n",
       "dtype: int64"
      ]
     },
     "execution_count": 11,
     "metadata": {},
     "output_type": "execute_result"
    }
   ],
   "source": [
    "# change \"protein_coding\" to \"mRNA\" in \"gene_type\" column\n",
    "GTF.loc[GTF['gene_type']==\"protein_coding\",\"gene_type\"]=\"mRNA\"\n",
    "GTF.groupby('gene_type').size()"
   ]
  },
  {
   "cell_type": "code",
   "execution_count": 12,
   "metadata": {},
   "outputs": [
    {
     "data": {
      "text/html": [
       "<div>\n",
       "<style>\n",
       "    .dataframe thead tr:only-child th {\n",
       "        text-align: right;\n",
       "    }\n",
       "\n",
       "    .dataframe thead th {\n",
       "        text-align: left;\n",
       "    }\n",
       "\n",
       "    .dataframe tbody tr th {\n",
       "        vertical-align: top;\n",
       "    }\n",
       "</style>\n",
       "<table border=\"1\" class=\"dataframe\">\n",
       "  <thead>\n",
       "    <tr style=\"text-align: right;\">\n",
       "      <th></th>\n",
       "      <th>0</th>\n",
       "    </tr>\n",
       "    <tr>\n",
       "      <th>chromosome</th>\n",
       "      <th></th>\n",
       "    </tr>\n",
       "  </thead>\n",
       "  <tbody>\n",
       "    <tr>\n",
       "      <th>2L</th>\n",
       "      <td>3496</td>\n",
       "    </tr>\n",
       "    <tr>\n",
       "      <th>2R</th>\n",
       "      <td>3621</td>\n",
       "    </tr>\n",
       "    <tr>\n",
       "      <th>3L</th>\n",
       "      <td>3457</td>\n",
       "    </tr>\n",
       "    <tr>\n",
       "      <th>3R</th>\n",
       "      <td>4191</td>\n",
       "    </tr>\n",
       "    <tr>\n",
       "      <th>4</th>\n",
       "      <td>111</td>\n",
       "    </tr>\n",
       "    <tr>\n",
       "      <th>Mito</th>\n",
       "      <td>38</td>\n",
       "    </tr>\n",
       "    <tr>\n",
       "      <th>X</th>\n",
       "      <td>2671</td>\n",
       "    </tr>\n",
       "    <tr>\n",
       "      <th>Y</th>\n",
       "      <td>113</td>\n",
       "    </tr>\n",
       "    <tr>\n",
       "      <th>rDNA</th>\n",
       "      <td>21</td>\n",
       "    </tr>\n",
       "    <tr>\n",
       "      <th>unlocalized</th>\n",
       "      <td>18</td>\n",
       "    </tr>\n",
       "  </tbody>\n",
       "</table>\n",
       "</div>"
      ],
      "text/plain": [
       "                0\n",
       "chromosome       \n",
       "2L           3496\n",
       "2R           3621\n",
       "3L           3457\n",
       "3R           4191\n",
       "4             111\n",
       "Mito           38\n",
       "X            2671\n",
       "Y             113\n",
       "rDNA           21\n",
       "unlocalized    18"
      ]
     },
     "execution_count": 12,
     "metadata": {},
     "output_type": "execute_result"
    }
   ],
   "source": [
    "# make a dataframe for chromosome and gene number\n",
    "Df_Chr=pd.DataFrame(GTF.groupby('chromosome').size())\n",
    "Df_Chr"
   ]
  },
  {
   "cell_type": "code",
   "execution_count": 13,
   "metadata": {
    "scrolled": true
   },
   "outputs": [
    {
     "data": {
      "text/html": [
       "<div>\n",
       "<style>\n",
       "    .dataframe thead tr:only-child th {\n",
       "        text-align: right;\n",
       "    }\n",
       "\n",
       "    .dataframe thead th {\n",
       "        text-align: left;\n",
       "    }\n",
       "\n",
       "    .dataframe tbody tr th {\n",
       "        vertical-align: top;\n",
       "    }\n",
       "</style>\n",
       "<table border=\"1\" class=\"dataframe\">\n",
       "  <thead>\n",
       "    <tr style=\"text-align: right;\">\n",
       "      <th></th>\n",
       "      <th>chr</th>\n",
       "      <th>gene number</th>\n",
       "    </tr>\n",
       "  </thead>\n",
       "  <tbody>\n",
       "    <tr>\n",
       "      <th>0</th>\n",
       "      <td>2L</td>\n",
       "      <td>3496</td>\n",
       "    </tr>\n",
       "    <tr>\n",
       "      <th>1</th>\n",
       "      <td>2R</td>\n",
       "      <td>3621</td>\n",
       "    </tr>\n",
       "    <tr>\n",
       "      <th>2</th>\n",
       "      <td>3L</td>\n",
       "      <td>3457</td>\n",
       "    </tr>\n",
       "    <tr>\n",
       "      <th>3</th>\n",
       "      <td>3R</td>\n",
       "      <td>4191</td>\n",
       "    </tr>\n",
       "    <tr>\n",
       "      <th>4</th>\n",
       "      <td>4</td>\n",
       "      <td>111</td>\n",
       "    </tr>\n",
       "    <tr>\n",
       "      <th>5</th>\n",
       "      <td>Mito</td>\n",
       "      <td>38</td>\n",
       "    </tr>\n",
       "    <tr>\n",
       "      <th>6</th>\n",
       "      <td>X</td>\n",
       "      <td>2671</td>\n",
       "    </tr>\n",
       "    <tr>\n",
       "      <th>7</th>\n",
       "      <td>Y</td>\n",
       "      <td>113</td>\n",
       "    </tr>\n",
       "    <tr>\n",
       "      <th>8</th>\n",
       "      <td>rDNA</td>\n",
       "      <td>21</td>\n",
       "    </tr>\n",
       "    <tr>\n",
       "      <th>9</th>\n",
       "      <td>unlocalized</td>\n",
       "      <td>18</td>\n",
       "    </tr>\n",
       "  </tbody>\n",
       "</table>\n",
       "</div>"
      ],
      "text/plain": [
       "           chr  gene number\n",
       "0           2L         3496\n",
       "1           2R         3621\n",
       "2           3L         3457\n",
       "3           3R         4191\n",
       "4            4          111\n",
       "5         Mito           38\n",
       "6            X         2671\n",
       "7            Y          113\n",
       "8         rDNA           21\n",
       "9  unlocalized           18"
      ]
     },
     "execution_count": 13,
     "metadata": {},
     "output_type": "execute_result"
    }
   ],
   "source": [
    "#convert the row names to a column\n",
    "Df_Chr.index.name = 'chromosome'\n",
    "Df_Chr.reset_index(inplace=True)\n",
    "#Df_Chr.shape\n",
    "Df_Chr.columns=['chr','gene number']\n",
    "Df_Chr"
   ]
  },
  {
   "cell_type": "code",
   "execution_count": 14,
   "metadata": {},
   "outputs": [
    {
     "data": {
      "image/png": "[encoded data removed]",
      "text/plain": [
       "<matplotlib.figure.Figure at 0x10bacc6a0>"
      ]
     },
     "metadata": {},
     "output_type": "display_data"
    }
   ],
   "source": [
    "# plot gene numbers in each cromosome\n",
    "\n",
    "import matplotlib.pyplot as plt\n",
    "import pylab as plt\n",
    "\n",
    "plt.figure(figsize=(12,10))\n",
    "plt.bar(Df_Chr['chr'],Df_Chr['gene number'],color='orange')\n",
    "plt.xticks(rotation=45,fontsize=14)\n",
    "plt.yticks(fontsize=14)\n",
    "#plt.xlabel('Chromosome',fontsize=14) # add x axis label if you want to\n",
    "plt.title('Gene number in each chromosome',fontsize=18)\n",
    "plt.show()\n",
    "#plt.savefig('Chr_gene_number_plot.png',dpi=100)\n"
   ]
  },
  {
   "cell_type": "code",
   "execution_count": 15,
   "metadata": {},
   "outputs": [
    {
     "data": {
      "text/html": [
       "<div>\n",
       "<style>\n",
       "    .dataframe thead tr:only-child th {\n",
       "        text-align: right;\n",
       "    }\n",
       "\n",
       "    .dataframe thead th {\n",
       "        text-align: left;\n",
       "    }\n",
       "\n",
       "    .dataframe tbody tr th {\n",
       "        vertical-align: top;\n",
       "    }\n",
       "</style>\n",
       "<table border=\"1\" class=\"dataframe\">\n",
       "  <thead>\n",
       "    <tr style=\"text-align: right;\">\n",
       "      <th></th>\n",
       "      <th>gene_type</th>\n",
       "      <th>number</th>\n",
       "    </tr>\n",
       "  </thead>\n",
       "  <tbody>\n",
       "    <tr>\n",
       "      <th>0</th>\n",
       "      <td>mRNA</td>\n",
       "      <td>13931</td>\n",
       "    </tr>\n",
       "    <tr>\n",
       "      <th>1</th>\n",
       "      <td>ncRNA</td>\n",
       "      <td>2491</td>\n",
       "    </tr>\n",
       "    <tr>\n",
       "      <th>2</th>\n",
       "      <td>pre_miRNA</td>\n",
       "      <td>259</td>\n",
       "    </tr>\n",
       "    <tr>\n",
       "      <th>3</th>\n",
       "      <td>pseudogene</td>\n",
       "      <td>309</td>\n",
       "    </tr>\n",
       "    <tr>\n",
       "      <th>4</th>\n",
       "      <td>rRNA</td>\n",
       "      <td>115</td>\n",
       "    </tr>\n",
       "    <tr>\n",
       "      <th>5</th>\n",
       "      <td>snRNA</td>\n",
       "      <td>32</td>\n",
       "    </tr>\n",
       "    <tr>\n",
       "      <th>6</th>\n",
       "      <td>snoRNA</td>\n",
       "      <td>288</td>\n",
       "    </tr>\n",
       "    <tr>\n",
       "      <th>7</th>\n",
       "      <td>tRNA</td>\n",
       "      <td>312</td>\n",
       "    </tr>\n",
       "  </tbody>\n",
       "</table>\n",
       "</div>"
      ],
      "text/plain": [
       "    gene_type  number\n",
       "0        mRNA   13931\n",
       "1       ncRNA    2491\n",
       "2   pre_miRNA     259\n",
       "3  pseudogene     309\n",
       "4        rRNA     115\n",
       "5       snRNA      32\n",
       "6      snoRNA     288\n",
       "7        tRNA     312"
      ]
     },
     "execution_count": 15,
     "metadata": {},
     "output_type": "execute_result"
    }
   ],
   "source": [
    "# make a dataframe for gene type and gene number\n",
    "Df_Type=pd.DataFrame(GTF.groupby('gene_type').size())\n",
    "Df_Type.index.name = 'Type'\n",
    "Df_Type.reset_index(inplace=True)\n",
    "Df_Type.columns=['gene_type','number']\n",
    "Df_Type"
   ]
  },
  {
   "cell_type": "code",
   "execution_count": 16,
   "metadata": {},
   "outputs": [
    {
     "data": {
      "image/png": "[encoded data removed]",
      "text/plain": [
       "<matplotlib.figure.Figure at 0x10a26c4a8>"
      ]
     },
     "metadata": {},
     "output_type": "display_data"
    }
   ],
   "source": [
    "# plot gene numbers in each cromosome\n",
    "\n",
    "import matplotlib.pyplot as plt\n",
    "import pylab as plt\n",
    "\n",
    "plt.figure(figsize=(12,10))\n",
    "plt.bar(Df_Type['gene_type'],Df_Type['number'],color='blueviolet')\n",
    "plt.xticks(rotation=45,fontsize=14)\n",
    "plt.yticks(fontsize=14)\n",
    "plt.title('Gene number in each RNA type',fontsize=18)\n",
    "plt.show()\n",
    "#plt.savefig('RNA_Type_number_plot.png',dpi=100)"
   ]
  },
  {
   "cell_type": "code",
   "execution_count": 17,
   "metadata": {},
   "outputs": [
    {
     "data": {
      "image/png": "[encoded data removed]",
      "text/plain": [
       "<matplotlib.figure.Figure at 0x10a344588>"
      ]
     },
     "metadata": {},
     "output_type": "display_data"
    }
   ],
   "source": [
    "# plot gene length frequency \n",
    "import matplotlib.pyplot as plt\n",
    "import pylab as plt\n",
    "\n",
    "freq=pd.DataFrame(GTF.groupby('gene_length').size())\n",
    "freq.index.name = 'gene_length'\n",
    "freq.reset_index(inplace=True)\n",
    "freq.columns=['gene_length','freq']\n",
    "\n",
    "plt.figure(figsize=(12,10))\n",
    "plt.title('Gene number in each RNA type',fontsize=18)\n",
    "plt.plot(freq['gene_length'],freq['freq'],color='limegreen')\n",
    "plt.xlim(0, 10000)\n",
    "plt.xticks(fontsize=14)\n",
    "plt.yticks(fontsize=14)\n",
    "plt.title('Gene length frequency',fontsize=18)\n",
    "plt.show()\n",
    "#plt.savefig('Gene_length_freq_plot.png',dpi=100)"
   ]
  }
 ],
 "metadata": {
  "kernelspec": {
   "display_name": "Python 3",
   "language": "python",
   "name": "python3"
  },
  "language_info": {
   "codemirror_mode": {
    "name": "ipython",
    "version": 3
   },
   "file_extension": ".py",
   "mimetype": "text/x-python",
   "name": "python",
   "nbconvert_exporter": "python",
   "pygments_lexer": "ipython3",
   "version": "3.6.3"
  }
 },
 "nbformat": 4,
 "nbformat_minor": 2
}
